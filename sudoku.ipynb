{
 "cells": [
  {
   "cell_type": "markdown",
   "metadata": {},
   "source": [
    "# Sudoku: Integer Programming"
   ]
  },
  {
   "cell_type": "markdown",
   "metadata": {},
   "source": [
    "Defining Sudoku as an integer programming problem involves formulating constraints to ensure that each row, column, and 3x3 subgrid contains the numbers 1 through 9 exactly once. Let’s set up this formulation step-by-step."
   ]
  },
  {
   "cell_type": "markdown",
   "metadata": {},
   "source": [
    "### 1. Define Variables\n",
    "\n",
    "Let $x_{i,j,k}$ be a binary variable where:"
   ]
  },
  {
   "cell_type": "markdown",
   "metadata": {},
   "source": [
    "$\\quad x_{i,j,k} = \n",
    "\\begin{cases} \n",
    "1 & \\text{if cell } (i,j) \\text{ contains the number } k \\\\\n",
    "0 & \\text{otherwise}\n",
    "\\end{cases}$"
   ]
  },
  {
   "cell_type": "markdown",
   "metadata": {},
   "source": [
    "Here, $i, j \\in {1,..,9} $ represents the possible numbers in each cell and $ k \\in {1,...,9} $ represents the possible numbers in each cell."
   ]
  },
  {
   "cell_type": "markdown",
   "metadata": {},
   "source": [
    "### 2. Objective Function\n",
    "In Sudoku, our goal is to fill the grid according to the rules, not to maximize or minimize a specific objective. So, there is no objective function, and it becomes a feasibility problem.\n",
    "\n",
    "### 3. Constraints\n",
    "To define a valid Sudoku solution, we impose the following constraints:\n"
   ]
  },
  {
   "cell_type": "markdown",
   "metadata": {},
   "source": [
    "\n",
    "#### a. Cell Constraints\n",
    "Each cell $(i,j)$ must contain exactly one number $k$ from 1 to 9:\n",
    "\n",
    "$\\sum_{k=1}^{9} x_{i,j,k} = 1 \\quad \\forall \\, i, j \\in \\{1, \\ldots, 9\\}$\n",
    "\n",
    "#### b. Row Constraints \n",
    "Each number $k$ appears exactly once in each row $i$:\n",
    "\n",
    "$\\sum_{j=1}^{9} x_{i,j,k} = 1 \\quad \\forall \\, i, k \\in \\{1, \\ldots, 9\\}$\n",
    "\n",
    "#### c. Column Constraints\n",
    "Each number $k$ appears exactly once in each column $j$:\n",
    "\n",
    "$\\sum_{i=1}^{9} x_{i,j,k} = 1 \\quad \\forall \\, j, k \\in \\{1, \\ldots, 9\\}$\n",
    "\n",
    "#### d. Subgrid Constraints\n",
    "Each number $k$ appears exactly once in each 3x3 subgrid. Let $I$ and $J$ represent the starting row and column indices of each 3x3 subgrid (e.g., for the top-left subgrid, $\n",
    "I,J \\in {1,4,7}$). Then:\n",
    "\n",
    "$\\sum_{i=I}^{I+2} \\sum_{j=J}^{J+2} x_{i,j,k} = 1 \\quad \\forall \\, k \\in \\{1, \\ldots, 9\\}, \\, I, J \\in \\{1, 4, 7\\}$\n",
    "\n",
    "#### e. Initial Conditions (pre-filled cells):\n",
    "For cells with given numbers in the initial Sudoku puzzle, we add fixed constraints. If cell $(i,j)$ is initially filled with the number $k$ then:\n",
    "\n",
    "$x_{i,j,k} = 1$"
   ]
  },
  {
   "cell_type": "markdown",
   "metadata": {},
   "source": [
    "### Summary\n",
    "This formulation turns Sudoku into a system of equations and inequalities that, when satisfied, yields a correct Sudoku solution."
   ]
  },
  {
   "cell_type": "code",
   "execution_count": 2,
   "metadata": {},
   "outputs": [
    {
     "name": "stdout",
     "output_type": "stream",
     "text": [
      "Solved Sudoku grid:\n",
      "[[5 3 4 6 7 8 9 1 2]\n",
      " [6 7 2 1 9 5 3 4 8]\n",
      " [1 9 8 3 4 2 5 6 7]\n",
      " [8 5 9 7 6 1 4 2 3]\n",
      " [4 2 6 8 5 3 7 9 1]\n",
      " [7 1 3 9 2 4 8 5 6]\n",
      " [9 6 1 5 3 7 2 8 4]\n",
      " [2 8 7 4 1 9 6 3 5]\n",
      " [3 4 5 2 8 6 1 7 9]]\n"
     ]
    }
   ],
   "source": [
    "import cvxpy as cp\n",
    "import numpy as np\n",
    "\n",
    "# Sudoku grid size\n",
    "n = 9  # Grid size for 9x9 Sudoku\n",
    "num_cells = n * n  # Total cells in the grid\n",
    "\n",
    "# Define a 2D binary variable where x[cell, k] = 1 if the cell contains number k+1\n",
    "x = cp.Variable((num_cells, n), boolean=True)\n",
    "\n",
    "# Helper function to get the cell index from row and column\n",
    "def cell_index(i, j):\n",
    "    return i * n + j\n",
    "\n",
    "# Constraints\n",
    "constraints = []\n",
    "\n",
    "# 1. Cell Constraints: Each cell contains exactly one number\n",
    "for cell in range(num_cells):\n",
    "    constraints.append(cp.sum(x[cell, :]) == 1)\n",
    "\n",
    "# 2. Row Constraints: Each number appears exactly once in each row\n",
    "for i in range(n):\n",
    "    for k in range(n):\n",
    "        # Convert the generator to a list to avoid TypeError\n",
    "        constraints.append(cp.sum([x[cell_index(i, j), k] for j in range(n)]) == 1)\n",
    "\n",
    "# 3. Column Constraints: Each number appears exactly once in each column\n",
    "for j in range(n):\n",
    "    for k in range(n):\n",
    "        # Convert the generator to a list to avoid TypeError\n",
    "        constraints.append(cp.sum([x[cell_index(i, j), k] for i in range(n)]) == 1)\n",
    "\n",
    "# 4. Subgrid Constraints: Each number appears exactly once in each 3x3 subgrid\n",
    "for I in range(0, n, 3):\n",
    "    for J in range(0, n, 3):\n",
    "        for k in range(n):\n",
    "            # Convert the generator to a list to avoid TypeError\n",
    "            constraints.append(cp.sum([x[cell_index(I + di, J + dj), k] \n",
    "                                       for di in range(3) for dj in range(3)]) == 1)\n",
    "\n",
    "# 5. Initial Conditions (Pre-filled cells in the Sudoku puzzle)\n",
    "# Example of a partially-filled Sudoku puzzle grid\n",
    "initial_grid = [\n",
    "    [5, 3, 0, 0, 7, 0, 0, 0, 0],\n",
    "    [6, 0, 0, 1, 9, 5, 0, 0, 0],\n",
    "    [0, 9, 8, 0, 0, 0, 0, 6, 0],\n",
    "    [8, 0, 0, 0, 6, 0, 0, 0, 3],\n",
    "    [4, 0, 0, 8, 0, 3, 0, 0, 1],\n",
    "    [7, 0, 0, 0, 2, 0, 0, 0, 6],\n",
    "    [0, 6, 0, 0, 0, 0, 2, 8, 0],\n",
    "    [0, 0, 0, 4, 1, 9, 0, 0, 5],\n",
    "    [0, 0, 0, 0, 8, 0, 0, 7, 9]\n",
    "]\n",
    "\n",
    "# Apply constraints for the given numbers in the initial grid\n",
    "for i in range(n):\n",
    "    for j in range(n):\n",
    "        if initial_grid[i][j] != 0:\n",
    "            # Set x[cell_index(i, j), k] = 1 for the specific given number k in cell (i, j)\n",
    "            k = initial_grid[i][j] - 1  # Convert value to zero-based index\n",
    "            constraints.append(x[cell_index(i, j), k] == 1)\n",
    "\n",
    "# Objective function: No objective since this is a feasibility problem\n",
    "objective = cp.Maximize(0)\n",
    "\n",
    "# Define the problem\n",
    "problem = cp.Problem(objective, constraints)\n",
    "\n",
    "# Solve the problem\n",
    "problem.solve(solver=cp.CBC)  # Use CBC solver\n",
    "\n",
    "# Extract and print solution if feasible\n",
    "if problem.status == cp.OPTIMAL:\n",
    "    solution = np.zeros((n, n), dtype=int)\n",
    "    for i in range(n):\n",
    "        for j in range(n):\n",
    "            for k in range(n):\n",
    "                if x[cell_index(i, j), k].value > 0.5:  # Check if x[cell_index(i, j), k] is approximately 1\n",
    "                    solution[i, j] = k + 1  # Convert to 1-based index\n",
    "    print(\"Solved Sudoku grid:\")\n",
    "    print(solution)\n",
    "else:\n",
    "    print(\"No solution found.\")\n"
   ]
  }
 ],
 "metadata": {
  "kernelspec": {
   "display_name": "venv",
   "language": "python",
   "name": "python3"
  },
  "language_info": {
   "codemirror_mode": {
    "name": "ipython",
    "version": 3
   },
   "file_extension": ".py",
   "mimetype": "text/x-python",
   "name": "python",
   "nbconvert_exporter": "python",
   "pygments_lexer": "ipython3",
   "version": "3.11.7"
  }
 },
 "nbformat": 4,
 "nbformat_minor": 2
}
