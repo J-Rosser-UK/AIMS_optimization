{
 "cells": [
  {
   "cell_type": "markdown",
   "metadata": {},
   "source": [
    "# Sudoku: Integer Programming"
   ]
  },
  {
   "cell_type": "markdown",
   "metadata": {},
   "source": [
    "Defining Sudoku as an integer programming problem involves formulating constraints to ensure that each row, column, and 3x3 subgrid contains the numbers 1 through 9 exactly once. Let’s set up this formulation step-by-step."
   ]
  },
  {
   "cell_type": "markdown",
   "metadata": {},
   "source": [
    "### 1. Define Variables\n",
    "\n",
    "Let $x_{i,j,k}$ be a binary variable where:"
   ]
  },
  {
   "cell_type": "markdown",
   "metadata": {},
   "source": [
    "$\\quad x_{i,j,k} = \n",
    "\\begin{cases} \n",
    "1 & \\text{if cell } (i,j) \\text{ contains the number } k \\\\\n",
    "0 & \\text{otherwise}\n",
    "\\end{cases}$"
   ]
  },
  {
   "cell_type": "markdown",
   "metadata": {},
   "source": [
    "Here, $i, j \\in {1,..,9} $ represents the possible numbers in each cell and $ k \\in {1,...,9} $ represents the possible numbers in each cell."
   ]
  },
  {
   "cell_type": "markdown",
   "metadata": {},
   "source": [
    "### 2. Objective Function\n",
    "In Sudoku, our goal is to fill the grid according to the rules, not to maximize or minimize a specific objective. So, there is no objective function, and it becomes a feasibility problem.\n",
    "\n",
    "### 3. Constraints\n",
    "To define a valid Sudoku solution, we impose the following constraints:\n"
   ]
  },
  {
   "cell_type": "markdown",
   "metadata": {},
   "source": [
    "\n",
    "#### a. Cell Constraints\n",
    "Each cell $(i,j)$ must contain exactly one number $k$ from 1 to 9:\n",
    "\n",
    "$\\sum_{k=1}^{9} x_{i,j,k} = 1 \\quad \\forall \\, i, j \\in \\{1, \\ldots, 9\\}$\n",
    "\n",
    "#### b. Row Constraints \n",
    "Each number $k$ appears exactly once in each row $i$:\n",
    "\n",
    "$\\sum_{j=1}^{9} x_{i,j,k} = 1 \\quad \\forall \\, i, k \\in \\{1, \\ldots, 9\\}$\n",
    "\n",
    "#### c. Column Constraints\n",
    "Each number $k$ appears exactly once in each column $j$:\n",
    "\n",
    "$\\sum_{i=1}^{9} x_{i,j,k} = 1 \\quad \\forall \\, j, k \\in \\{1, \\ldots, 9\\}$\n",
    "\n",
    "#### d. Subgrid Constraints\n",
    "Each number $k$ appears exactly once in each 3x3 subgrid. Let $I$ and $J$ represent the starting row and column indices of each 3x3 subgrid (e.g., for the top-left subgrid, $\n",
    "I,J \\in {1,4,7}$). Then:\n",
    "\n",
    "$\\sum_{i=I}^{I+2} \\sum_{j=J}^{J+2} x_{i,j,k} = 1 \\quad \\forall \\, k \\in \\{1, \\ldots, 9\\}, \\, I, J \\in \\{1, 4, 7\\}$\n",
    "\n",
    "#### e. Initial Conditions (pre-filled cells):\n",
    "For cells with given numbers in the initial Sudoku puzzle, we add fixed constraints. If cell $(i,j)$ is initially filled with the number $k$ then:\n",
    "\n",
    "$x_{i,j,k} = 1$"
   ]
  },
  {
   "cell_type": "markdown",
   "metadata": {},
   "source": [
    "### Summary\n",
    "This formulation turns Sudoku into a system of equations and inequalities that, when satisfied, yields a correct Sudoku solution."
   ]
  }
 ],
 "metadata": {
  "language_info": {
   "name": "python"
  }
 },
 "nbformat": 4,
 "nbformat_minor": 2
}
