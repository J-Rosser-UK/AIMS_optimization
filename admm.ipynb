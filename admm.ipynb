{
 "cells": [
  {
   "cell_type": "markdown",
   "metadata": {},
   "source": [
    "# Alternating Direction Method of Multipliers (ADMM)"
   ]
  },
  {
   "cell_type": "markdown",
   "metadata": {},
   "source": [
    "The equations for the ADMM update steps are as follows:\n",
    "\n",
    "1. Update $\\tilde{w}$:\n",
    "\n",
    "$\n",
    "\\tilde{w}^{k+1} = \\arg \\min_{\\tilde{w}} \\left( f(\\tilde{w}) + \\frac{\\rho}{2} \\left\\| \\tilde{w} - w^k + \\frac{y^k}{\\rho} \\right\\|^2 \\right)\n",
    "$\n",
    "\n",
    "2. Update w:\n",
    "\n",
    "$\n",
    "w^{k+1} = \\arg \\min_{w} \\left( g(w) + \\frac{\\rho}{2} \\left\\| w - \\tilde{w}^{k+1} - \\frac{y^k}{\\rho} \\right\\|^2 \\right)\n",
    "$\n",
    "\n",
    "3. Update the dual variable y:\n",
    "\n",
    "$\n",
    "y^{k+1} = y^k + \\rho \\left( \\tilde{w}^{k+1} - w^{k+1} \\right)\n",
    "$\n",
    "\n",
    "To calculate the residual at each iteration, we use:\n",
    "\n",
    "$\n",
    "\\text{Residual} = \\left\\| w^{k+1} - \\tilde{w}^{k+1} \\right\\|_2\n",
    "$\n",
    "\n",
    "The objective function for each subproblem can be written as follows:\n",
    "\n",
    "$\\tilde{w}$ update:\n",
    "\n",
    "$\n",
    "\\tilde{w}^{k+1} = \\arg \\min_{\\tilde{w}} \\left( f(\\tilde{w}) + \\frac{\\rho}{2} \\left\\| \\tilde{w} - w^k + \\frac{y^k}{\\rho} \\right\\|^2 \\right)\n",
    "$\n",
    "\n",
    "Objective function for w update:\n",
    "\n",
    "$\n",
    "w^{k+1} = \\arg \\min_{w} \\left( g(w) + \\frac{\\rho}{2} \\left\\| w - \\tilde{w}^{k+1} - \\frac{y^k}{\\rho} \\right\\|^2 \\right)\n",
    "$\n",
    "\n",
    "Now let's implement this!\n"
   ]
  },
  {
   "cell_type": "code",
   "execution_count": 18,
   "metadata": {},
   "outputs": [],
   "source": [
    "import cvxpy as cp\n",
    "import numpy as np\n",
    "import matplotlib.pyplot as plt\n",
    "\n",
    "# Problem dimensions and parameters\n",
    "m, n = 100, 500\n",
    "rho = 1.0  # Penalty parameter\n",
    "\n",
    "# Generate random data\n",
    "np.random.seed(0)\n",
    "x_true = np.random.randn(n)\n",
    "A = np.random.randn(n, n)\n",
    "b = A @ x_true\n"
   ]
  },
  {
   "cell_type": "markdown",
   "metadata": {},
   "source": [
    "#### Initialise variables"
   ]
  },
  {
   "cell_type": "code",
   "execution_count": 19,
   "metadata": {},
   "outputs": [],
   "source": [
    "# Initialize variables\n",
    "w = cp.Variable(n)\n",
    "w_tilde = cp.Variable(n)\n",
    "y = np.zeros(n)  # Dual variable\n",
    "\n",
    "# Set initial values for `w` and `w_tilde`\n",
    "w.value = np.zeros(n)\n",
    "w_tilde.value = np.zeros(n)"
   ]
  },
  {
   "cell_type": "markdown",
   "metadata": {},
   "source": [
    "\n",
    "#### Define f and g as convex functions"
   ]
  },
  {
   "cell_type": "code",
   "execution_count": 20,
   "metadata": {},
   "outputs": [],
   "source": [
    "f = lambda w_tilde: cp.sum_squares(A @ w_tilde - b) / 2\n",
    "g = lambda w: cp.sum_squares(w) / 2"
   ]
  },
  {
   "cell_type": "markdown",
   "metadata": {},
   "source": [
    "#### Perform alternation optimization"
   ]
  },
  {
   "cell_type": "code",
   "execution_count": 21,
   "metadata": {},
   "outputs": [
    {
     "name": "stderr",
     "output_type": "stream",
     "text": [
      "  2%|▏         | 17/1000 [00:03<03:41,  4.43it/s]\n"
     ]
    }
   ],
   "source": [
    "from tqdm import tqdm\n",
    "\n",
    "# Iteration parameters\n",
    "max_iters = 1000\n",
    "residuals = []\n",
    "\n",
    "# ADMM iterations\n",
    "for k in tqdm(range(max_iters)):\n",
    "    # Update w_tilde by solving the subproblem\n",
    "    w_tilde_obj = f(w_tilde) + (rho / 2) * cp.sum_squares(w_tilde - w.value + y / rho)\n",
    "    w_tilde_problem = cp.Problem(cp.Minimize(w_tilde_obj))\n",
    "    w_tilde_problem.solve(solver=cp.SCS)  # Use SCS solver\n",
    "    \n",
    "    # Update w by solving the subproblem\n",
    "    w_obj = g(w) + (rho / 2) * cp.sum_squares(w - w_tilde.value - y / rho)\n",
    "    w_problem = cp.Problem(cp.Minimize(w_obj))\n",
    "    w_problem.solve(solver=cp.SCS)  # Use SCS solver\n",
    "    \n",
    "    # Update dual variable y\n",
    "    y += rho * (w_tilde.value - w.value)\n",
    "    \n",
    "    # Calculate residual\n",
    "    residual = np.linalg.norm(w.value - w_tilde.value)\n",
    "    residuals.append(residual)\n",
    "\n",
    "    # Break if residual is close to zero\n",
    "    if residual < 1e-4:\n",
    "        break\n"
   ]
  },
  {
   "cell_type": "markdown",
   "metadata": {},
   "source": [
    "\n",
    "#### Plot the residuals"
   ]
  },
  {
   "cell_type": "code",
   "execution_count": 28,
   "metadata": {},
   "outputs": [
    {
     "data": {
      "image/png": "[encoded data removed]",
      "text/plain": [
       "<Figure size 640x480 with 1 Axes>"
      ]
     },
     "metadata": {},
     "output_type": "display_data"
    }
   ],
   "source": [
    "plt.plot(residuals)\n",
    "plt.xlabel(\"Iteration\")\n",
    "plt.ylabel(\"Residual $||w^{(k+1)} - {w_{tilde}}^{(k+1)}||_2$\")\n",
    "plt.title(\"Residuals over ADMM Iterations\")\n",
    "plt.show()\n"
   ]
  }
 ],
 "metadata": {
  "kernelspec": {
   "display_name": "optim",
   "language": "python",
   "name": "python3"
  },
  "language_info": {
   "codemirror_mode": {
    "name": "ipython",
    "version": 3
   },
   "file_extension": ".py",
   "mimetype": "text/x-python",
   "name": "python",
   "nbconvert_exporter": "python",
   "pygments_lexer": "ipython3",
   "version": "3.8.19"
  }
 },
 "nbformat": 4,
 "nbformat_minor": 2
}
