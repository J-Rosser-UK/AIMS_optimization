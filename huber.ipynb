{
 "cells": [
  {
   "cell_type": "markdown",
   "metadata": {},
   "source": [
    "# Sparse signal recovery with Huber objective"
   ]
  },
  {
   "cell_type": "markdown",
   "metadata": {},
   "source": [
    "The objective is to solve the following optimization problem:\n",
    "\n",
    "$\n",
    "\\min_x \\; \\phi(Ax - y) \\quad \\text{subject to} \\quad \\|x\\|_1 \\leq N\n",
    "$\n",
    "\n",
    "where $\\phi$ is the Huber function, defined as:\n",
    "\n",
    "$\n",
    "\\phi(y) = \\sum_i h(y_i),\n",
    "$\n",
    "\n",
    "with\n",
    "\n",
    "$\n",
    "h(u) = \n",
    "\\begin{cases} \n",
    "      u^2 & \\text{if } |u| \\leq 1, \\\\\n",
    "      2|u| - 1 & \\text{if } |u| \\geq 1.\n",
    "   \\end{cases}\n",
    "$\n",
    "\n",
    "We start by randomly generating $A$ and $y$:"
   ]
  },
  {
   "cell_type": "code",
   "execution_count": 19,
   "metadata": {},
   "outputs": [],
   "source": [
    "import numpy as np\n",
    "\n",
    "# Generate random signal\n",
    "np.random.seed(0)\n",
    "\n",
    "\n",
    "# Generate random signal\n",
    "n = 1000\n",
    "n_nnz = 10\n",
    "hat_x = np.zeros(n)\n",
    "nnz_idx = np.random.randint(0,n,n_nnz)\n",
    "hat_x[nnz_idx] = np.random.randn(n_nnz)\n",
    "\n",
    "# Samples\n",
    "n_samples = 100\n",
    "A = np.random.randn(n_samples,n)\n",
    "y = A@hat_x"
   ]
  },
  {
   "cell_type": "markdown",
   "metadata": {},
   "source": [
    "\n",
    "The goal of this function is to project a vector $x$ onto the L1-norm constraint set $C$, defined as:\n",
    "\n",
    "$\n",
    "C = \\{ x \\in \\mathbb{R}^n : \\|x\\|_1 \\leq N \\}\n",
    "$\n",
    "\n",
    "where $N$ is a positive scalar.\n",
    "We now define projection onto the l1 norm ball in code:"
   ]
  },
  {
   "cell_type": "code",
   "execution_count": 20,
   "metadata": {},
   "outputs": [],
   "source": [
    "# L1 norm constraint\n",
    "N = 10  \n",
    "\n",
    "\n",
    "# Projection onto L1 norm constraint set\n",
    "def project_onto_l1_ball(x, N):\n",
    "    if np.linalg.norm(x, 1) <= N:\n",
    "        return x\n",
    "    u = np.abs(x)\n",
    "    if u.sum() <= N:\n",
    "        return x\n",
    "    # Sort u in descending order\n",
    "    s = np.sort(u)[::-1]\n",
    "    # Find the threshold\n",
    "    cssv = np.cumsum(s) - N\n",
    "    ind = np.arange(len(s)) + 1\n",
    "    cond = s - cssv / ind > 0\n",
    "    rho = ind[cond][-1]\n",
    "    theta = cssv[cond][-1] / rho\n",
    "    # Soft-thresholding\n",
    "    return np.sign(x) * np.maximum(u - theta, 0)"
   ]
  },
  {
   "cell_type": "markdown",
   "metadata": {},
   "source": [
    "#### We can define the Huber gradient as:\n",
    "\n",
    "$\n",
    "h(u) = \n",
    "\\begin{cases} \n",
    "      u^2 & \\text{if } |u| \\leq 1, \\\\\n",
    "      2|u| - 1 & \\text{if } |u| \\geq 1.\n",
    "   \\end{cases}\n",
    "$"
   ]
  },
  {
   "cell_type": "code",
   "execution_count": 21,
   "metadata": {},
   "outputs": [],
   "source": [
    "def huber_gradient(A, x, y):\n",
    "    Ax_minus_y = A @ x - y\n",
    "    grad = np.where(np.abs(Ax_minus_y) <= 1, 2 * Ax_minus_y, 2 * np.sign(Ax_minus_y))\n",
    "    return A.T @ grad"
   ]
  },
  {
   "cell_type": "markdown",
   "metadata": {},
   "source": [
    "We can then perform gradient descent with a projection step to ensure conditions are satisfied."
   ]
  },
  {
   "cell_type": "code",
   "execution_count": 22,
   "metadata": {},
   "outputs": [],
   "source": [
    "def gradient_descent(A, x, y, step_size=1e-4, max_iters=1000, tolerance=1e-4):\n",
    "    for k in range(max_iters):\n",
    "        # Compute gradient\n",
    "        grad = huber_gradient(A, x, y)\n",
    "\n",
    "        # Gradient descent step\n",
    "        x = x - step_size * grad\n",
    "\n",
    "        # Projection step\n",
    "        x = project_onto_l1_ball(x, N)\n",
    "\n",
    "        # Check for convergence\n",
    "        if np.linalg.norm(grad) < tolerance:\n",
    "            print(f\"Converged in {k} iterations\")\n",
    "            break\n",
    "    return x\n",
    "\n",
    "# Run projected gradient descent\n",
    "x = np.zeros(n)\n",
    "x = gradient_descent(A, x, y)\n"
   ]
  },
  {
   "cell_type": "markdown",
   "metadata": {},
   "source": [
    "We can plot the True signal and the Recovered signal on the same plot to observe the results."
   ]
  },
  {
   "cell_type": "code",
   "execution_count": 23,
   "metadata": {},
   "outputs": [
    {
     "data": {
      "image/png": "[encoded data removed]",
      "text/plain": [
       "<Figure size 640x480 with 1 Axes>"
      ]
     },
     "metadata": {},
     "output_type": "display_data"
    }
   ],
   "source": [
    "\n",
    "import matplotlib.pyplot as plt\n",
    "plt.plot(hat_x, label=\"True signal\")\n",
    "plt.plot(x, label=\"Recovered signal\")\n",
    "plt.legend()\n",
    "plt.show()\n"
   ]
  }
 ],
 "metadata": {
  "kernelspec": {
   "display_name": "optim",
   "language": "python",
   "name": "python3"
  },
  "language_info": {
   "codemirror_mode": {
    "name": "ipython",
    "version": 3
   },
   "file_extension": ".py",
   "mimetype": "text/x-python",
   "name": "python",
   "nbconvert_exporter": "python",
   "pygments_lexer": "ipython3",
   "version": "3.8.19"
  }
 },
 "nbformat": 4,
 "nbformat_minor": 2
}
