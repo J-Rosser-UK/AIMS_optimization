{
 "cells": [
  {
   "cell_type": "markdown",
   "metadata": {},
   "source": [
    "# MNIST & SVMs\n",
    "\n",
    "In this problem you will use a support vector machine (SVM) method to classify images from the\n",
    "MNIST data set as discussed in the course lectures.\n",
    "## (a) Obtain the MNIST data set\n",
    "Obtain the dataset from\n",
    "https://www.kaggle.com/datasets/oddrationale/mnist-in-csv\n",
    "in CSV format.\n"
   ]
  },
  {
   "cell_type": "code",
   "execution_count": 7,
   "metadata": {},
   "outputs": [
    {
     "data": {
      "image/png": "[encoded data removed]",
      "text/plain": [
       "<Figure size 1000x200 with 5 Axes>"
      ]
     },
     "metadata": {},
     "output_type": "display_data"
    },
    {
     "data": {
      "image/png": "[encoded data removed]",
      "text/plain": [
       "<Figure size 1000x200 with 5 Axes>"
      ]
     },
     "metadata": {},
     "output_type": "display_data"
    },
    {
     "name": "stdout",
     "output_type": "stream",
     "text": [
      "<class 'pandas.core.frame.DataFrame'>\n",
      "RangeIndex: 60000 entries, 0 to 59999\n",
      "Columns: 785 entries, label to 28x28\n",
      "dtypes: int64(785)\n",
      "memory usage: 359.3 MB\n",
      "None\n"
     ]
    },
    {
     "data": {
      "text/html": [
       "<div>\n",
       "<style scoped>\n",
       "    .dataframe tbody tr th:only-of-type {\n",
       "        vertical-align: middle;\n",
       "    }\n",
       "\n",
       "    .dataframe tbody tr th {\n",
       "        vertical-align: top;\n",
       "    }\n",
       "\n",
       "    .dataframe thead th {\n",
       "        text-align: right;\n",
       "    }\n",
       "</style>\n",
       "<table border=\"1\" class=\"dataframe\">\n",
       "  <thead>\n",
       "    <tr style=\"text-align: right;\">\n",
       "      <th></th>\n",
       "      <th>label</th>\n",
       "      <th>1x1</th>\n",
       "      <th>1x2</th>\n",
       "      <th>1x3</th>\n",
       "      <th>1x4</th>\n",
       "      <th>1x5</th>\n",
       "      <th>1x6</th>\n",
       "      <th>1x7</th>\n",
       "      <th>1x8</th>\n",
       "      <th>1x9</th>\n",
       "      <th>...</th>\n",
       "      <th>28x19</th>\n",
       "      <th>28x20</th>\n",
       "      <th>28x21</th>\n",
       "      <th>28x22</th>\n",
       "      <th>28x23</th>\n",
       "      <th>28x24</th>\n",
       "      <th>28x25</th>\n",
       "      <th>28x26</th>\n",
       "      <th>28x27</th>\n",
       "      <th>28x28</th>\n",
       "    </tr>\n",
       "  </thead>\n",
       "  <tbody>\n",
       "    <tr>\n",
       "      <th>0</th>\n",
       "      <td>5</td>\n",
       "      <td>0</td>\n",
       "      <td>0</td>\n",
       "      <td>0</td>\n",
       "      <td>0</td>\n",
       "      <td>0</td>\n",
       "      <td>0</td>\n",
       "      <td>0</td>\n",
       "      <td>0</td>\n",
       "      <td>0</td>\n",
       "      <td>...</td>\n",
       "      <td>0</td>\n",
       "      <td>0</td>\n",
       "      <td>0</td>\n",
       "      <td>0</td>\n",
       "      <td>0</td>\n",
       "      <td>0</td>\n",
       "      <td>0</td>\n",
       "      <td>0</td>\n",
       "      <td>0</td>\n",
       "      <td>0</td>\n",
       "    </tr>\n",
       "    <tr>\n",
       "      <th>1</th>\n",
       "      <td>0</td>\n",
       "      <td>0</td>\n",
       "      <td>0</td>\n",
       "      <td>0</td>\n",
       "      <td>0</td>\n",
       "      <td>0</td>\n",
       "      <td>0</td>\n",
       "      <td>0</td>\n",
       "      <td>0</td>\n",
       "      <td>0</td>\n",
       "      <td>...</td>\n",
       "      <td>0</td>\n",
       "      <td>0</td>\n",
       "      <td>0</td>\n",
       "      <td>0</td>\n",
       "      <td>0</td>\n",
       "      <td>0</td>\n",
       "      <td>0</td>\n",
       "      <td>0</td>\n",
       "      <td>0</td>\n",
       "      <td>0</td>\n",
       "    </tr>\n",
       "    <tr>\n",
       "      <th>2</th>\n",
       "      <td>4</td>\n",
       "      <td>0</td>\n",
       "      <td>0</td>\n",
       "      <td>0</td>\n",
       "      <td>0</td>\n",
       "      <td>0</td>\n",
       "      <td>0</td>\n",
       "      <td>0</td>\n",
       "      <td>0</td>\n",
       "      <td>0</td>\n",
       "      <td>...</td>\n",
       "      <td>0</td>\n",
       "      <td>0</td>\n",
       "      <td>0</td>\n",
       "      <td>0</td>\n",
       "      <td>0</td>\n",
       "      <td>0</td>\n",
       "      <td>0</td>\n",
       "      <td>0</td>\n",
       "      <td>0</td>\n",
       "      <td>0</td>\n",
       "    </tr>\n",
       "    <tr>\n",
       "      <th>3</th>\n",
       "      <td>1</td>\n",
       "      <td>0</td>\n",
       "      <td>0</td>\n",
       "      <td>0</td>\n",
       "      <td>0</td>\n",
       "      <td>0</td>\n",
       "      <td>0</td>\n",
       "      <td>0</td>\n",
       "      <td>0</td>\n",
       "      <td>0</td>\n",
       "      <td>...</td>\n",
       "      <td>0</td>\n",
       "      <td>0</td>\n",
       "      <td>0</td>\n",
       "      <td>0</td>\n",
       "      <td>0</td>\n",
       "      <td>0</td>\n",
       "      <td>0</td>\n",
       "      <td>0</td>\n",
       "      <td>0</td>\n",
       "      <td>0</td>\n",
       "    </tr>\n",
       "    <tr>\n",
       "      <th>4</th>\n",
       "      <td>9</td>\n",
       "      <td>0</td>\n",
       "      <td>0</td>\n",
       "      <td>0</td>\n",
       "      <td>0</td>\n",
       "      <td>0</td>\n",
       "      <td>0</td>\n",
       "      <td>0</td>\n",
       "      <td>0</td>\n",
       "      <td>0</td>\n",
       "      <td>...</td>\n",
       "      <td>0</td>\n",
       "      <td>0</td>\n",
       "      <td>0</td>\n",
       "      <td>0</td>\n",
       "      <td>0</td>\n",
       "      <td>0</td>\n",
       "      <td>0</td>\n",
       "      <td>0</td>\n",
       "      <td>0</td>\n",
       "      <td>0</td>\n",
       "    </tr>\n",
       "  </tbody>\n",
       "</table>\n",
       "<p>5 rows × 785 columns</p>\n",
       "</div>"
      ],
      "text/plain": [
       "   label  1x1  1x2  1x3  1x4  1x5  1x6  1x7  1x8  1x9  ...  28x19  28x20  \\\n",
       "0      5    0    0    0    0    0    0    0    0    0  ...      0      0   \n",
       "1      0    0    0    0    0    0    0    0    0    0  ...      0      0   \n",
       "2      4    0    0    0    0    0    0    0    0    0  ...      0      0   \n",
       "3      1    0    0    0    0    0    0    0    0    0  ...      0      0   \n",
       "4      9    0    0    0    0    0    0    0    0    0  ...      0      0   \n",
       "\n",
       "   28x21  28x22  28x23  28x24  28x25  28x26  28x27  28x28  \n",
       "0      0      0      0      0      0      0      0      0  \n",
       "1      0      0      0      0      0      0      0      0  \n",
       "2      0      0      0      0      0      0      0      0  \n",
       "3      0      0      0      0      0      0      0      0  \n",
       "4      0      0      0      0      0      0      0      0  \n",
       "\n",
       "[5 rows x 785 columns]"
      ]
     },
     "execution_count": 7,
     "metadata": {},
     "output_type": "execute_result"
    }
   ],
   "source": [
    "import pandas as pd\n",
    "import matplotlib.pyplot as plt\n",
    "\n",
    "# Load the datasets\n",
    "train_data = pd.read_csv('mnist_train.csv')\n",
    "test_data = pd.read_csv('mnist_test.csv')\n",
    "\n",
    "# Function to plot a few examples\n",
    "def plot_examples(data, title, num_examples=5):\n",
    "    plt.figure(figsize=(10, 2))\n",
    "    for i in range(num_examples):\n",
    "        plt.subplot(1, num_examples, i + 1)\n",
    "        plt.imshow(data.iloc[i, 1:].values.reshape(28, 28), cmap='gray')\n",
    "        plt.title(f\"Label: {data.iloc[i, 0]}\")\n",
    "        plt.axis('off')\n",
    "    plt.suptitle(title)\n",
    "    plt.show()\n",
    "\n",
    "# Visualize a few examples from the training set\n",
    "plot_examples(train_data, \"Training Set Examples\")\n",
    "\n",
    "# Visualize a few examples from the test set\n",
    "plot_examples(test_data, \"Test Set Examples\")\n",
    "\n",
    "# Inspect the training dataframe\n",
    "print(train_data.info())\n",
    "train_data.head()"
   ]
  },
  {
   "cell_type": "markdown",
   "metadata": {},
   "source": [
    "## (b) Load the examples \n",
    "For a single value (say 5, but it doesn’t matter which you pick), load the examples from the\n",
    "MNIST training and test sets that correspond to images of the value 5. Note that the first entry\n",
    "in every row of the MNIST data set gives the value in the image, while the rest of the row is a\n",
    "vector with 284 (i.e. 28 × 28) entries representing the image of the number as a column vector.\n"
   ]
  },
  {
   "cell_type": "code",
   "execution_count": 8,
   "metadata": {},
   "outputs": [
    {
     "data": {
      "image/png": "[encoded data removed]",
      "text/plain": [
       "<Figure size 1000x200 with 5 Axes>"
      ]
     },
     "metadata": {},
     "output_type": "display_data"
    },
    {
     "name": "stdout",
     "output_type": "stream",
     "text": [
      "Number of training examples for label 5: 5421\n",
      "Number of test examples for label 5: 892\n"
     ]
    }
   ],
   "source": [
    "# Filter the training and test sets for images of the value 5\n",
    "train_data_5 = train_data[train_data['label'] == 5]\n",
    "test_data_5 = test_data[test_data['label'] == 5]\n",
    "\n",
    "# Visualize a few examples from the training set with label 5\n",
    "plot_examples(train_data_5, \"Training Set Examples with Label 5\")\n",
    "\n",
    "# Display the number of examples found\n",
    "print(f\"Number of training examples for label 5: {len(train_data_5)}\")\n",
    "print(f\"Number of test examples for label 5: {len(test_data_5)}\")"
   ]
  },
  {
   "cell_type": "markdown",
   "metadata": {},
   "source": [
    "## (c) Train an SVM\n",
    "Use the training data set to train a SVM model to classify each image in the training set as “5”\n",
    "or “not 5”. You will need to do this parametrically for increasing values of λ. Choose the value λ\n",
    "that gives the best classification rate for the test data set.\n"
   ]
  },
  {
   "cell_type": "code",
   "execution_count": 9,
   "metadata": {},
   "outputs": [
    {
     "name": "stderr",
     "output_type": "stream",
     "text": [
      "100%|██████████| 10/10 [00:01<00:00,  6.51it/s]\n"
     ]
    },
    {
     "name": "stdout",
     "output_type": "stream",
     "text": [
      "Accuracy: 1.0\n"
     ]
    },
    {
     "data": {
      "image/png": "[encoded data removed]",
      "text/plain": [
       "<Figure size 1000x200 with 5 Axes>"
      ]
     },
     "metadata": {},
     "output_type": "display_data"
    },
    {
     "data": {
      "image/png": "[encoded data removed]",
      "text/plain": [
       "<Figure size 1000x200 with 5 Axes>"
      ]
     },
     "metadata": {},
     "output_type": "display_data"
    }
   ],
   "source": [
    "# Use pytorch to train an SVM\n",
    "import torch\n",
    "import torch.nn as nn\n",
    "import torch.optim as optim\n",
    "from torch.utils.data import DataLoader, TensorDataset\n",
    "from tqdm import tqdm\n",
    "\n",
    "# Define the model\n",
    "class SVM(nn.Module):\n",
    "    def __init__(self):\n",
    "        super(SVM, self).__init__()\n",
    "        self.fc = nn.Linear(28 * 28, 1)\n",
    "\n",
    "    def forward(self, x):\n",
    "        return self.fc(x)\n",
    "\n",
    "# Define the loss function\n",
    "def hinge_loss(y_pred, y_true):\n",
    "    return torch.mean(torch.clamp(1 - y_pred.t() * y_true, min=0))\n",
    "\n",
    "# Define the training function\n",
    "def train_svm(model, train_loader, optimizer, num_epochs=10):\n",
    "    model.train()\n",
    "    for epoch in tqdm(range(num_epochs)):\n",
    "        for X, y in train_loader:\n",
    "            optimizer.zero_grad()\n",
    "            y_pred = model(X)\n",
    "            loss = hinge_loss(y_pred, y)\n",
    "            loss.backward()\n",
    "            optimizer.step()\n",
    "\n",
    "# Prepare the data\n",
    "X_train = torch.tensor(train_data_5.iloc[:, 1:].values / 255, dtype=torch.float32)\n",
    "\n",
    "# Convert the labels to -1 and 1\n",
    "y_train = torch.tensor(2 * (train_data_5['label'].values == 5) - 1, dtype=torch.float32)\n",
    "\n",
    "# Create a DataLoader\n",
    "train_dataset = TensorDataset(X_train, y_train)\n",
    "train_loader = DataLoader(train_dataset, batch_size=64, shuffle=True)\n",
    "\n",
    "# Initialize the model and optimizer\n",
    "model = SVM()\n",
    "optimizer = optim.SGD(model.parameters(), lr=0.1)\n",
    "\n",
    "# Train the model\n",
    "train_svm(model, train_loader, optimizer)\n",
    "\n",
    "# Evaluate the model\n",
    "X_test = torch.tensor(test_data_5.iloc[:, 1:].values / 255, dtype=torch.float32)\n",
    "y_test = torch.tensor(2 * (test_data_5['label'].values == 5) - 1, dtype=torch.float32)\n",
    "\n",
    "# Compute the predictions\n",
    "y_pred = model(X_test).squeeze().detach().numpy()\n",
    "\n",
    "# Compute the accuracy\n",
    "accuracy = (y_pred * y_test.numpy() > 0).mean()\n",
    "print(f\"Accuracy: {accuracy}\")\n",
    "\n",
    "# Visualize a few examples from the test set with label 5\n",
    "plot_examples(test_data_5, \"Test Set Examples with Label 5\")\n",
    "\n",
    "# Visualize the predictions\n",
    "plt.figure(figsize=(10, 2))\n",
    "for i in range(5):\n",
    "    plt.subplot(1, 5, i + 1)\n",
    "    plt.imshow(test_data_5.iloc[i, 1:].values.reshape(28, 28), cmap='gray')\n",
    "    plt.title(f\"Prediction: {y_pred[i]:.2f}\")\n",
    "    plt.axis('off')\n",
    "\n",
    "plt.suptitle(\"Predictions on Test Set Examples with Label 5\")\n",
    "plt.show()\n",
    "\n"
   ]
  },
  {
   "cell_type": "markdown",
   "metadata": {},
   "source": [
    "## (d) Do the same thing for all of the other numbers 0–9.\n"
   ]
  },
  {
   "cell_type": "code",
   "execution_count": 10,
   "metadata": {},
   "outputs": [],
   "source": [
    "# Define the multiclass SVM using One-vs-Rest approach\n",
    "class MultiClassSVM(nn.Module):\n",
    "    def __init__(self, num_classes=10):\n",
    "        super(MultiClassSVM, self).__init__()\n",
    "        self.svms = nn.ModuleList([SVM() for _ in range(num_classes)])\n",
    "\n",
    "    def forward(self, x):\n",
    "        # For each class, calculate the output of its SVM\n",
    "        outputs = torch.cat([svm(x) for svm in self.svms], dim=1)\n",
    "        return outputs"
   ]
  },
  {
   "cell_type": "markdown",
   "metadata": {},
   "source": [
    "## (e) Multi-Class SVM\n",
    "Apply the SVM models you have computed for the complete set of values 0–9 to the full test data\n",
    "set. For each entry in the test set, classify it as a number 0–9. What is your overall success rate?"
   ]
  },
  {
   "cell_type": "code",
   "execution_count": 11,
   "metadata": {},
   "outputs": [
    {
     "name": "stderr",
     "output_type": "stream",
     "text": [
      "100%|██████████| 10/10 [00:32<00:00,  3.27s/it]"
     ]
    },
    {
     "name": "stdout",
     "output_type": "stream",
     "text": [
      "Accuracy: 0.9168\n"
     ]
    },
    {
     "name": "stderr",
     "output_type": "stream",
     "text": [
      "\n"
     ]
    },
    {
     "data": {
      "image/png": "[encoded data removed]",
      "text/plain": [
       "<Figure size 1000x200 with 5 Axes>"
      ]
     },
     "metadata": {},
     "output_type": "display_data"
    }
   ],
   "source": [
    "# Define the hinge loss function for SVM\n",
    "def hinge_loss(y_pred, y_true):\n",
    "    return torch.mean(torch.clamp(1 - y_pred * y_true, min=0))\n",
    "\n",
    "# Define the training function for each SVM classifier\n",
    "def train_multi_svm(model, train_loader, optimizer, num_epochs=10):\n",
    "    model.train()\n",
    "    for epoch in tqdm(range(num_epochs)):\n",
    "        for X, y in train_loader:\n",
    "            optimizer.zero_grad()\n",
    "            outputs = model(X)\n",
    "            \n",
    "            # Calculate loss for each class\n",
    "            losses = []\n",
    "            for i in range(outputs.size(1)):  # for each class\n",
    "                y_binary = 2 * (y == i).float() - 1  # Convert labels for class i to -1 and 1\n",
    "                loss = hinge_loss(outputs[:, i], y_binary)\n",
    "                losses.append(loss)\n",
    "                \n",
    "            # Total loss is the sum of individual class losses\n",
    "            total_loss = sum(losses)\n",
    "            total_loss.backward()\n",
    "            optimizer.step()\n",
    "\n",
    "# Prepare the data (using train_data and test_data with labels as tensors)\n",
    "X_train = torch.tensor(train_data.iloc[:, 1:].values / 255, dtype=torch.float32)\n",
    "y_train = torch.tensor(train_data['label'].values, dtype=torch.long)\n",
    "\n",
    "# Create a DataLoader\n",
    "train_dataset = TensorDataset(X_train, y_train)\n",
    "train_loader = DataLoader(train_dataset, batch_size=64, shuffle=True)\n",
    "\n",
    "# Initialize the model and optimizer\n",
    "num_classes = 10\n",
    "model = MultiClassSVM(num_classes=num_classes)\n",
    "optimizer = optim.SGD(model.parameters(), lr=0.1)\n",
    "\n",
    "# Train the model\n",
    "train_multi_svm(model, train_loader, optimizer)\n",
    "\n",
    "# Evaluate the model\n",
    "X_test = torch.tensor(test_data.iloc[:, 1:].values / 255, dtype=torch.float32)\n",
    "y_test = torch.tensor(test_data['label'].values, dtype=torch.long)\n",
    "\n",
    "# Compute the predictions and choose the class with the highest score\n",
    "with torch.no_grad():\n",
    "    y_scores = model(X_test)\n",
    "    y_pred = torch.argmax(y_scores, dim=1)\n",
    "\n",
    "# Calculate accuracy\n",
    "accuracy = (y_pred == y_test).float().mean().item()\n",
    "print(f\"Accuracy: {accuracy:.4f}\")\n",
    "\n",
    "# Visualize a few examples from the test set with predictions\n",
    "\n",
    "plt.figure(figsize=(10, 2))\n",
    "for i in range(5):\n",
    "    plt.subplot(1, 5, i + 1)\n",
    "    plt.imshow(test_data.iloc[i, 1:].values.reshape(28, 28), cmap='gray')\n",
    "    plt.title(f\"Pred: {y_pred[i].item()}\")\n",
    "    plt.axis('off')\n",
    "\n",
    "plt.suptitle(\"Predictions on Test Set Examples\")\n",
    "plt.show()\n"
   ]
  }
 ],
 "metadata": {
  "kernelspec": {
   "display_name": "optim",
   "language": "python",
   "name": "python3"
  },
  "language_info": {
   "codemirror_mode": {
    "name": "ipython",
    "version": 3
   },
   "file_extension": ".py",
   "mimetype": "text/x-python",
   "name": "python",
   "nbconvert_exporter": "python",
   "pygments_lexer": "ipython3",
   "version": "3.8.19"
  }
 },
 "nbformat": 4,
 "nbformat_minor": 2
}
